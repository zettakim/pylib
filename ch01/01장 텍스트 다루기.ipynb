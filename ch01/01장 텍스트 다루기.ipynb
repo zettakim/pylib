{
 "cells": [
  {
   "attachments": {},
   "cell_type": "markdown",
   "metadata": {},
   "source": [
    "# 01장 텍스트 다루기"
   ]
  },
  {
   "attachments": {},
   "cell_type": "markdown",
   "metadata": {},
   "source": [
    "파이썬은 텍스트 처리에 강한 언어다. 문자열 자료형만 해도 강력하지만 이를 더 강력하게 하는 다양한 라이브러리도 있다. 이번 장에서는 문자열을 줄여서 표시하거나 지정된 길이로 줄 바꿈하는 데 사용하는 textwrap 모듈과 파이썬에서 정규표현식을 사용하기 위한 re 모듈을 알아본다."
   ]
  },
  {
   "attachments": {},
   "cell_type": "markdown",
   "metadata": {},
   "source": [
    "## 001 문자열을 줄여 표시하려면? ― textwrap.shorten"
   ]
  },
  {
   "attachments": {},
   "cell_type": "markdown",
   "metadata": {},
   "source": [
    "textwrap.shorten()은 문자열을 원하는 길이에 맞게 줄여 표시(...)할 때 사용하는 함수이다."
   ]
  },
  {
   "attachments": {},
   "cell_type": "markdown",
   "metadata": {},
   "source": [
    "### 문제\n",
    "때로는 제목이나 내용 미리 보기가 너무 길어 줄여 표시했으면 할 때가 있다. 예를 들어 다음과 같은 긴 문자열(공백 포함 34자)을 표시 가능한 15자 범위로 줄이려면 어떻게 프로그래밍해야 할까? (단, 15자가 넘지 않을 때는 그대로 표시하기로 한다.)  \n",
    "\n",
    "> Life is too short, you need python"
   ]
  },
  {
   "attachments": {},
   "cell_type": "markdown",
   "metadata": {},
   "source": [
    "### 풀이"
   ]
  },
  {
   "cell_type": "code",
   "execution_count": 2,
   "metadata": {},
   "outputs": [
    {
     "data": {
      "text/plain": [
       "'Life is [...]'"
      ]
     },
     "execution_count": 2,
     "metadata": {},
     "output_type": "execute_result"
    }
   ],
   "source": [
    "import textwrap\n",
    "textwrap.shorten(\"Life is too short, you need python\", width=15)"
   ]
  },
  {
   "attachments": {},
   "cell_type": "markdown",
   "metadata": {},
   "source": [
    "```python\n",
    "textwrap.shorten() 함수는 매개변수 width로 전달한 길이만큼 문자열을 줄여 표시한다. 이때 문자열에 포함된 모든 연속 공백은 하나의 공백 문자로 줄어든다. 축약된 문자열임을 뜻하는 [...] 역시 전체 길이에 포함되며 문자열은 단어 단위로 길이에 맞게 줄어든다.\n",
    "```"
   ]
  },
  {
   "attachments": {},
   "cell_type": "markdown",
   "metadata": {},
   "source": [
    ">단어 단위로 문자열을 줄이므로 단어는 중간에 끊어지지 않는다."
   ]
  },
  {
   "attachments": {},
   "cell_type": "markdown",
   "metadata": {},
   "source": [
    "한글 문자열도 마찬가지이다. 단, 한글 1문자를 길이 2가 아닌 1로 계산한다는 점에 조심하자."
   ]
  },
  {
   "cell_type": "code",
   "execution_count": 3,
   "metadata": {},
   "outputs": [
    {
     "data": {
      "text/plain": [
       "'인생은 짧으니 [...]'"
      ]
     },
     "execution_count": 3,
     "metadata": {},
     "output_type": "execute_result"
    }
   ],
   "source": [
    "import textwrap\n",
    "textwrap.shorten(\"인생은 짧으니 파이썬이 필요해\", width=15)"
   ]
  },
  {
   "attachments": {},
   "cell_type": "markdown",
   "metadata": {},
   "source": [
    "축약 표시 [...]을 ...으로 변경하고 싶다면 다음처럼 매개변수 placeholder를 이용한다."
   ]
  },
  {
   "cell_type": "code",
   "execution_count": 4,
   "metadata": {},
   "outputs": [
    {
     "data": {
      "text/plain": [
       "'인생은 짧으니 파이썬이...'"
      ]
     },
     "execution_count": 4,
     "metadata": {},
     "output_type": "execute_result"
    }
   ],
   "source": [
    "textwrap.shorten(\"인생은 짧으니 파이썬이 필요해\", width=15, placeholder='...')"
   ]
  },
  {
   "cell_type": "markdown",
   "metadata": {},
   "source": [
    "## 002 긴 문장을 줄 바꿈하려면? ― textwrap.wrap"
   ]
  },
  {
   "attachments": {},
   "cell_type": "markdown",
   "metadata": {},
   "source": [
    "```python\n",
    "textwrap.wrap()은 긴 문자열을 원하는 길이로 줄 바꿈(wrapping)할 때 사용하는 함수이다. 문자열 래핑은 문자열이 너무 길어질 때 원하는 길이로 줄 바꿈할 때도 도움이 된다."
   ]
  },
  {
   "attachments": {},
   "cell_type": "markdown",
   "metadata": {},
   "source": [
    "### 문제\n",
    "다음 문자열(long_text)은 너무 길어 읽기가 불편하므로 적당한 길이로 줄 바꿈했으면 한다."
   ]
  },
  {
   "cell_type": "code",
   "execution_count": 6,
   "metadata": {},
   "outputs": [
    {
     "data": {
      "text/plain": [
       "'Life is too short, you need python. Life is too short, you need python. Life is too short, you need python. Life is too short, you need python. Life is too short, you need python. Life is too short, you need python. Life is too short, you need python. Life is too short, you need python. Life is too short, you need python. Life is too short, you need python. '"
      ]
     },
     "execution_count": 6,
     "metadata": {},
     "output_type": "execute_result"
    }
   ],
   "source": [
    "long_text = \"Life is too short, you need python. \" * 10\n",
    "long_text"
   ]
  },
  {
   "attachments": {},
   "cell_type": "markdown",
   "metadata": {},
   "source": [
    "이 문자열을 단어가 잘리지 않도록 70자 단위로 줄 바꿈하려면 어떻게 프로그래밍해야 할까?"
   ]
  },
  {
   "attachments": {},
   "cell_type": "markdown",
   "metadata": {},
   "source": [
    "### 풀이\n",
    "먼저 textwrap.wrap() 함수를 이용한 해결 방법부터 살펴보자."
   ]
  },
  {
   "cell_type": "code",
   "execution_count": 8,
   "metadata": {},
   "outputs": [
    {
     "data": {
      "text/plain": [
       "['Life is too short, you need python. Life is too short, you need',\n",
       " 'python. Life is too short, you need python. Life is too short, you',\n",
       " 'need python. Life is too short, you need python. Life is too short,',\n",
       " 'you need python. Life is too short, you need python. Life is too',\n",
       " 'short, you need python. Life is too short, you need python. Life is',\n",
       " 'too short, you need python.']"
      ]
     },
     "execution_count": 8,
     "metadata": {},
     "output_type": "execute_result"
    }
   ],
   "source": [
    "result = textwrap.wrap(long_text, width=70)\n",
    "result"
   ]
  },
  {
   "attachments": {},
   "cell_type": "markdown",
   "metadata": {},
   "source": [
    "첫 번째 단계로 textwrap.wrap() 함수는 긴 문자열을 width 길이만큼 자르고 이를 리스트로 만들어 반환한다."
   ]
  },
  {
   "attachments": {},
   "cell_type": "markdown",
   "metadata": {},
   "source": [
    "> 단어 단위로 문자열을 자르므로 단어 중간이 끊어지지는 않는다."
   ]
  },
  {
   "attachments": {},
   "cell_type": "markdown",
   "metadata": {},
   "source": [
    "두 번째 단계로 이를 하나의 문자열로 표시하고자 다음과 같이 join() 함수로 문자열 사이에 줄 바꿈 문자(\\n)를 넣어 하나로 합친 다음 출력한다."
   ]
  },
  {
   "cell_type": "code",
   "execution_count": 9,
   "metadata": {},
   "outputs": [
    {
     "name": "stdout",
     "output_type": "stream",
     "text": [
      "Life is too short, you need python. Life is too short, you need\n",
      "python. Life is too short, you need python. Life is too short, you\n",
      "need python. Life is too short, you need python. Life is too short,\n",
      "you need python. Life is too short, you need python. Life is too\n",
      "short, you need python. Life is too short, you need python. Life is\n",
      "too short, you need python.\n"
     ]
    }
   ],
   "source": [
    "print(\"\\n\".join(result))"
   ]
  },
  {
   "attachments": {},
   "cell_type": "markdown",
   "metadata": {},
   "source": [
    "> '\\n'.join(List)는 리스트 요소 사이에 줄 바꿈 문자를 넣어 하나로 합친다. 리스트가 아닌 문자열이나 튜플에도 적용할 수 있다."
   ]
  },
  {
   "attachments": {},
   "cell_type": "markdown",
   "metadata": {},
   "source": [
    "참고로 textwrap.fill() 함수를 사용하면 이 과정을 한 번으로 줄일 수 있다."
   ]
  },
  {
   "cell_type": "code",
   "execution_count": 10,
   "metadata": {},
   "outputs": [
    {
     "name": "stdout",
     "output_type": "stream",
     "text": [
      "Life is too short, you need python. Life is too short, you need\n",
      "python. Life is too short, you need python. Life is too short, you\n",
      "need python. Life is too short, you need python. Life is too short,\n",
      "you need python. Life is too short, you need python. Life is too\n",
      "short, you need python. Life is too short, you need python. Life is\n",
      "too short, you need python.\n"
     ]
    }
   ],
   "source": [
    "result = textwrap.fill(long_text, width=70)\n",
    "print(result)"
   ]
  },
  {
   "attachments": {},
   "cell_type": "markdown",
   "metadata": {},
   "source": [
    "결과를 보면 각 줄의 길이가 70자를 넘기지 않는다는 것을 알 수 있다."
   ]
  }
 ],
 "metadata": {
  "kernelspec": {
   "display_name": "base",
   "language": "python",
   "name": "python3"
  },
  "language_info": {
   "codemirror_mode": {
    "name": "ipython",
    "version": 3
   },
   "file_extension": ".py",
   "mimetype": "text/x-python",
   "name": "python",
   "nbconvert_exporter": "python",
   "pygments_lexer": "ipython3",
   "version": "3.10.9"
  },
  "orig_nbformat": 4
 },
 "nbformat": 4,
 "nbformat_minor": 2
}
